{
  "nbformat": 4,
  "nbformat_minor": 0,
  "metadata": {
    "colab": {
      "name": "Cereals_dataset.ipynb",
      "provenance": [],
      "collapsed_sections": []
    },
    "kernelspec": {
      "name": "python3",
      "display_name": "Python 3"
    }
  },
  "cells": [
    {
      "cell_type": "code",
      "metadata": {
        "id": "aLoOyVuBZwZM"
      },
      "source": [
        "import numpy as np\r\n",
        "import pandas as pd\r\n",
        "import matplotlib.pyplot as plt\r\n",
        "import seaborn as sns"
      ],
      "execution_count": null,
      "outputs": []
    },
    {
      "cell_type": "code",
      "metadata": {
        "colab": {
          "base_uri": "https://localhost:8080/",
          "height": 182
        },
        "id": "F7MmPDlka8VE",
        "outputId": "e55e7028-7816-49b3-a855-8cacb1e5985b"
      },
      "source": [
        "df= pd.read_csv(\"cereal.csv\")\r\n",
        "df.head(2)"
      ],
      "execution_count": null,
      "outputs": [
        {
          "output_type": "execute_result",
          "data": {
            "text/html": [
              "<div>\n",
              "<style scoped>\n",
              "    .dataframe tbody tr th:only-of-type {\n",
              "        vertical-align: middle;\n",
              "    }\n",
              "\n",
              "    .dataframe tbody tr th {\n",
              "        vertical-align: top;\n",
              "    }\n",
              "\n",
              "    .dataframe thead th {\n",
              "        text-align: right;\n",
              "    }\n",
              "</style>\n",
              "<table border=\"1\" class=\"dataframe\">\n",
              "  <thead>\n",
              "    <tr style=\"text-align: right;\">\n",
              "      <th></th>\n",
              "      <th>name</th>\n",
              "      <th>mfr</th>\n",
              "      <th>type</th>\n",
              "      <th>calories</th>\n",
              "      <th>protein</th>\n",
              "      <th>fat</th>\n",
              "      <th>sodium</th>\n",
              "      <th>fiber</th>\n",
              "      <th>carbo</th>\n",
              "      <th>sugars</th>\n",
              "      <th>potass</th>\n",
              "      <th>vitamins</th>\n",
              "      <th>shelf</th>\n",
              "      <th>weight</th>\n",
              "      <th>cups</th>\n",
              "      <th>rating</th>\n",
              "    </tr>\n",
              "  </thead>\n",
              "  <tbody>\n",
              "    <tr>\n",
              "      <th>0</th>\n",
              "      <td>100% Bran</td>\n",
              "      <td>N</td>\n",
              "      <td>C</td>\n",
              "      <td>70</td>\n",
              "      <td>4</td>\n",
              "      <td>1</td>\n",
              "      <td>130</td>\n",
              "      <td>10.0</td>\n",
              "      <td>5.0</td>\n",
              "      <td>6</td>\n",
              "      <td>280</td>\n",
              "      <td>25</td>\n",
              "      <td>3</td>\n",
              "      <td>1.0</td>\n",
              "      <td>0.33</td>\n",
              "      <td>68.402973</td>\n",
              "    </tr>\n",
              "    <tr>\n",
              "      <th>1</th>\n",
              "      <td>100% Natural Bran</td>\n",
              "      <td>Q</td>\n",
              "      <td>C</td>\n",
              "      <td>120</td>\n",
              "      <td>3</td>\n",
              "      <td>5</td>\n",
              "      <td>15</td>\n",
              "      <td>2.0</td>\n",
              "      <td>8.0</td>\n",
              "      <td>8</td>\n",
              "      <td>135</td>\n",
              "      <td>0</td>\n",
              "      <td>3</td>\n",
              "      <td>1.0</td>\n",
              "      <td>1.00</td>\n",
              "      <td>33.983679</td>\n",
              "    </tr>\n",
              "  </tbody>\n",
              "</table>\n",
              "</div>"
            ],
            "text/plain": [
              "                name mfr type  calories  ...  shelf  weight  cups     rating\n",
              "0          100% Bran   N    C        70  ...      3     1.0  0.33  68.402973\n",
              "1  100% Natural Bran   Q    C       120  ...      3     1.0  1.00  33.983679\n",
              "\n",
              "[2 rows x 16 columns]"
            ]
          },
          "metadata": {
            "tags": []
          },
          "execution_count": 3
        }
      ]
    },
    {
      "cell_type": "markdown",
      "metadata": {
        "id": "PjNdwS8PbEtw"
      },
      "source": [
        "## Understanding the Dataset"
      ]
    },
    {
      "cell_type": "code",
      "metadata": {
        "colab": {
          "base_uri": "https://localhost:8080/"
        },
        "id": "HahX8sYdbIRv",
        "outputId": "eb9c4111-3220-4342-b209-aab94be474c1"
      },
      "source": [
        "df.info()"
      ],
      "execution_count": null,
      "outputs": [
        {
          "output_type": "stream",
          "text": [
            "<class 'pandas.core.frame.DataFrame'>\n",
            "RangeIndex: 77 entries, 0 to 76\n",
            "Data columns (total 16 columns):\n",
            " #   Column    Non-Null Count  Dtype  \n",
            "---  ------    --------------  -----  \n",
            " 0   name      77 non-null     object \n",
            " 1   mfr       77 non-null     object \n",
            " 2   type      77 non-null     object \n",
            " 3   calories  77 non-null     int64  \n",
            " 4   protein   77 non-null     int64  \n",
            " 5   fat       77 non-null     int64  \n",
            " 6   sodium    77 non-null     int64  \n",
            " 7   fiber     77 non-null     float64\n",
            " 8   carbo     77 non-null     float64\n",
            " 9   sugars    77 non-null     int64  \n",
            " 10  potass    77 non-null     int64  \n",
            " 11  vitamins  77 non-null     int64  \n",
            " 12  shelf     77 non-null     int64  \n",
            " 13  weight    77 non-null     float64\n",
            " 14  cups      77 non-null     float64\n",
            " 15  rating    77 non-null     float64\n",
            "dtypes: float64(5), int64(8), object(3)\n",
            "memory usage: 9.8+ KB\n"
          ],
          "name": "stdout"
        }
      ]
    },
    {
      "cell_type": "markdown",
      "metadata": {
        "id": "4A8GgWdybNgZ"
      },
      "source": [
        "The datatypes of all variables is correct."
      ]
    },
    {
      "cell_type": "code",
      "metadata": {
        "colab": {
          "base_uri": "https://localhost:8080/",
          "height": 447
        },
        "id": "hBYzRLIrbWly",
        "outputId": "ac54432d-dd6e-46d3-dd57-20114d39dd8c"
      },
      "source": [
        "df.describe().transpose()"
      ],
      "execution_count": null,
      "outputs": [
        {
          "output_type": "execute_result",
          "data": {
            "text/html": [
              "<div>\n",
              "<style scoped>\n",
              "    .dataframe tbody tr th:only-of-type {\n",
              "        vertical-align: middle;\n",
              "    }\n",
              "\n",
              "    .dataframe tbody tr th {\n",
              "        vertical-align: top;\n",
              "    }\n",
              "\n",
              "    .dataframe thead th {\n",
              "        text-align: right;\n",
              "    }\n",
              "</style>\n",
              "<table border=\"1\" class=\"dataframe\">\n",
              "  <thead>\n",
              "    <tr style=\"text-align: right;\">\n",
              "      <th></th>\n",
              "      <th>count</th>\n",
              "      <th>mean</th>\n",
              "      <th>std</th>\n",
              "      <th>min</th>\n",
              "      <th>25%</th>\n",
              "      <th>50%</th>\n",
              "      <th>75%</th>\n",
              "      <th>max</th>\n",
              "    </tr>\n",
              "  </thead>\n",
              "  <tbody>\n",
              "    <tr>\n",
              "      <th>calories</th>\n",
              "      <td>77.0</td>\n",
              "      <td>106.883117</td>\n",
              "      <td>19.484119</td>\n",
              "      <td>50.000000</td>\n",
              "      <td>100.000000</td>\n",
              "      <td>110.000000</td>\n",
              "      <td>110.000000</td>\n",
              "      <td>160.000000</td>\n",
              "    </tr>\n",
              "    <tr>\n",
              "      <th>protein</th>\n",
              "      <td>77.0</td>\n",
              "      <td>2.545455</td>\n",
              "      <td>1.094790</td>\n",
              "      <td>1.000000</td>\n",
              "      <td>2.000000</td>\n",
              "      <td>3.000000</td>\n",
              "      <td>3.000000</td>\n",
              "      <td>6.000000</td>\n",
              "    </tr>\n",
              "    <tr>\n",
              "      <th>fat</th>\n",
              "      <td>77.0</td>\n",
              "      <td>1.012987</td>\n",
              "      <td>1.006473</td>\n",
              "      <td>0.000000</td>\n",
              "      <td>0.000000</td>\n",
              "      <td>1.000000</td>\n",
              "      <td>2.000000</td>\n",
              "      <td>5.000000</td>\n",
              "    </tr>\n",
              "    <tr>\n",
              "      <th>sodium</th>\n",
              "      <td>77.0</td>\n",
              "      <td>159.675325</td>\n",
              "      <td>83.832295</td>\n",
              "      <td>0.000000</td>\n",
              "      <td>130.000000</td>\n",
              "      <td>180.000000</td>\n",
              "      <td>210.000000</td>\n",
              "      <td>320.000000</td>\n",
              "    </tr>\n",
              "    <tr>\n",
              "      <th>fiber</th>\n",
              "      <td>77.0</td>\n",
              "      <td>2.151948</td>\n",
              "      <td>2.383364</td>\n",
              "      <td>0.000000</td>\n",
              "      <td>1.000000</td>\n",
              "      <td>2.000000</td>\n",
              "      <td>3.000000</td>\n",
              "      <td>14.000000</td>\n",
              "    </tr>\n",
              "    <tr>\n",
              "      <th>carbo</th>\n",
              "      <td>77.0</td>\n",
              "      <td>14.597403</td>\n",
              "      <td>4.278956</td>\n",
              "      <td>-1.000000</td>\n",
              "      <td>12.000000</td>\n",
              "      <td>14.000000</td>\n",
              "      <td>17.000000</td>\n",
              "      <td>23.000000</td>\n",
              "    </tr>\n",
              "    <tr>\n",
              "      <th>sugars</th>\n",
              "      <td>77.0</td>\n",
              "      <td>6.922078</td>\n",
              "      <td>4.444885</td>\n",
              "      <td>-1.000000</td>\n",
              "      <td>3.000000</td>\n",
              "      <td>7.000000</td>\n",
              "      <td>11.000000</td>\n",
              "      <td>15.000000</td>\n",
              "    </tr>\n",
              "    <tr>\n",
              "      <th>potass</th>\n",
              "      <td>77.0</td>\n",
              "      <td>96.077922</td>\n",
              "      <td>71.286813</td>\n",
              "      <td>-1.000000</td>\n",
              "      <td>40.000000</td>\n",
              "      <td>90.000000</td>\n",
              "      <td>120.000000</td>\n",
              "      <td>330.000000</td>\n",
              "    </tr>\n",
              "    <tr>\n",
              "      <th>vitamins</th>\n",
              "      <td>77.0</td>\n",
              "      <td>28.246753</td>\n",
              "      <td>22.342523</td>\n",
              "      <td>0.000000</td>\n",
              "      <td>25.000000</td>\n",
              "      <td>25.000000</td>\n",
              "      <td>25.000000</td>\n",
              "      <td>100.000000</td>\n",
              "    </tr>\n",
              "    <tr>\n",
              "      <th>shelf</th>\n",
              "      <td>77.0</td>\n",
              "      <td>2.207792</td>\n",
              "      <td>0.832524</td>\n",
              "      <td>1.000000</td>\n",
              "      <td>1.000000</td>\n",
              "      <td>2.000000</td>\n",
              "      <td>3.000000</td>\n",
              "      <td>3.000000</td>\n",
              "    </tr>\n",
              "    <tr>\n",
              "      <th>weight</th>\n",
              "      <td>77.0</td>\n",
              "      <td>1.029610</td>\n",
              "      <td>0.150477</td>\n",
              "      <td>0.500000</td>\n",
              "      <td>1.000000</td>\n",
              "      <td>1.000000</td>\n",
              "      <td>1.000000</td>\n",
              "      <td>1.500000</td>\n",
              "    </tr>\n",
              "    <tr>\n",
              "      <th>cups</th>\n",
              "      <td>77.0</td>\n",
              "      <td>0.821039</td>\n",
              "      <td>0.232716</td>\n",
              "      <td>0.250000</td>\n",
              "      <td>0.670000</td>\n",
              "      <td>0.750000</td>\n",
              "      <td>1.000000</td>\n",
              "      <td>1.500000</td>\n",
              "    </tr>\n",
              "    <tr>\n",
              "      <th>rating</th>\n",
              "      <td>77.0</td>\n",
              "      <td>42.665705</td>\n",
              "      <td>14.047289</td>\n",
              "      <td>18.042851</td>\n",
              "      <td>33.174094</td>\n",
              "      <td>40.400208</td>\n",
              "      <td>50.828392</td>\n",
              "      <td>93.704912</td>\n",
              "    </tr>\n",
              "  </tbody>\n",
              "</table>\n",
              "</div>"
            ],
            "text/plain": [
              "          count        mean        std  ...         50%         75%         max\n",
              "calories   77.0  106.883117  19.484119  ...  110.000000  110.000000  160.000000\n",
              "protein    77.0    2.545455   1.094790  ...    3.000000    3.000000    6.000000\n",
              "fat        77.0    1.012987   1.006473  ...    1.000000    2.000000    5.000000\n",
              "sodium     77.0  159.675325  83.832295  ...  180.000000  210.000000  320.000000\n",
              "fiber      77.0    2.151948   2.383364  ...    2.000000    3.000000   14.000000\n",
              "carbo      77.0   14.597403   4.278956  ...   14.000000   17.000000   23.000000\n",
              "sugars     77.0    6.922078   4.444885  ...    7.000000   11.000000   15.000000\n",
              "potass     77.0   96.077922  71.286813  ...   90.000000  120.000000  330.000000\n",
              "vitamins   77.0   28.246753  22.342523  ...   25.000000   25.000000  100.000000\n",
              "shelf      77.0    2.207792   0.832524  ...    2.000000    3.000000    3.000000\n",
              "weight     77.0    1.029610   0.150477  ...    1.000000    1.000000    1.500000\n",
              "cups       77.0    0.821039   0.232716  ...    0.750000    1.000000    1.500000\n",
              "rating     77.0   42.665705  14.047289  ...   40.400208   50.828392   93.704912\n",
              "\n",
              "[13 rows x 8 columns]"
            ]
          },
          "metadata": {
            "tags": []
          },
          "execution_count": 7
        }
      ]
    },
    {
      "cell_type": "markdown",
      "metadata": {
        "id": "Y2vroZ8NbjEc"
      },
      "source": [
        "16 features. Out of that, 13 quantitative variables. And 3 categorical variables. "
      ]
    },
    {
      "cell_type": "markdown",
      "metadata": {
        "id": "-mUj6he5cycS"
      },
      "source": [
        "Carbohydrates, Sugars and Potassium have minimum values -1. This is not correct. Needs data inspection."
      ]
    },
    {
      "cell_type": "code",
      "metadata": {
        "colab": {
          "base_uri": "https://localhost:8080/"
        },
        "id": "3NVUoTiLbtVw",
        "outputId": "b77fc1d1-97c3-4441-f2fa-52ff04e9ef32"
      },
      "source": [
        "df.shape"
      ],
      "execution_count": null,
      "outputs": [
        {
          "output_type": "execute_result",
          "data": {
            "text/plain": [
              "(77, 16)"
            ]
          },
          "metadata": {
            "tags": []
          },
          "execution_count": 8
        }
      ]
    },
    {
      "cell_type": "markdown",
      "metadata": {
        "id": "kZap59-ZcT4P"
      },
      "source": [
        "## Missing values"
      ]
    },
    {
      "cell_type": "code",
      "metadata": {
        "colab": {
          "base_uri": "https://localhost:8080/"
        },
        "id": "3C9HAFojcYi8",
        "outputId": "e8c3059b-004b-41a2-cca5-58863c123447"
      },
      "source": [
        "df.isnull().sum()"
      ],
      "execution_count": null,
      "outputs": [
        {
          "output_type": "execute_result",
          "data": {
            "text/plain": [
              "name        0\n",
              "mfr         0\n",
              "type        0\n",
              "calories    0\n",
              "protein     0\n",
              "fat         0\n",
              "sodium      0\n",
              "fiber       0\n",
              "carbo       0\n",
              "sugars      0\n",
              "potass      0\n",
              "vitamins    0\n",
              "shelf       0\n",
              "weight      0\n",
              "cups        0\n",
              "rating      0\n",
              "dtype: int64"
            ]
          },
          "metadata": {
            "tags": []
          },
          "execution_count": 9
        }
      ]
    },
    {
      "cell_type": "markdown",
      "metadata": {
        "id": "KAw2Vb1ccgOO"
      },
      "source": [
        "No missing values in data."
      ]
    },
    {
      "cell_type": "markdown",
      "metadata": {
        "id": "QTpTVUkfdEiX"
      },
      "source": [
        "### Data Inspection of Unusual Missing values: -1 (which might indicate missing value)"
      ]
    },
    {
      "cell_type": "code",
      "metadata": {
        "id": "Zxya-VxLdNKS"
      },
      "source": [
        "df= df.replace(-1, np.nan)"
      ],
      "execution_count": null,
      "outputs": []
    },
    {
      "cell_type": "code",
      "metadata": {
        "colab": {
          "base_uri": "https://localhost:8080/"
        },
        "id": "_jLrtmLkdS0V",
        "outputId": "3b0a15ab-9f58-40ec-9074-479e7cde2bf4"
      },
      "source": [
        "df.isnull().sum()"
      ],
      "execution_count": null,
      "outputs": [
        {
          "output_type": "execute_result",
          "data": {
            "text/plain": [
              "name        0\n",
              "mfr         0\n",
              "type        0\n",
              "calories    0\n",
              "protein     0\n",
              "fat         0\n",
              "sodium      0\n",
              "fiber       0\n",
              "carbo       1\n",
              "sugars      1\n",
              "potass      2\n",
              "vitamins    0\n",
              "shelf       0\n",
              "weight      0\n",
              "cups        0\n",
              "rating      0\n",
              "dtype: int64"
            ]
          },
          "metadata": {
            "tags": []
          },
          "execution_count": 12
        }
      ]
    },
    {
      "cell_type": "markdown",
      "metadata": {
        "id": "iPnNnxcldWtg"
      },
      "source": [
        "Potential missing values in Carbohydrates, Sugars and Potassium."
      ]
    },
    {
      "cell_type": "markdown",
      "metadata": {
        "id": "dHdkXUKPdk2O"
      },
      "source": [
        "Dropping the Cereals with missing values. Because, it is a list of 77 unique cereals. We can't impute them. "
      ]
    },
    {
      "cell_type": "code",
      "metadata": {
        "id": "_Snt4foudy0C"
      },
      "source": [
        "df= df.dropna()"
      ],
      "execution_count": null,
      "outputs": []
    },
    {
      "cell_type": "code",
      "metadata": {
        "colab": {
          "base_uri": "https://localhost:8080/"
        },
        "id": "06A44o_Ed2e8",
        "outputId": "60944984-17ce-4f0e-fe52-7d5c79a4ce11"
      },
      "source": [
        "df.shape"
      ],
      "execution_count": null,
      "outputs": [
        {
          "output_type": "execute_result",
          "data": {
            "text/plain": [
              "(74, 16)"
            ]
          },
          "metadata": {
            "tags": []
          },
          "execution_count": 14
        }
      ]
    },
    {
      "cell_type": "markdown",
      "metadata": {
        "id": "EYdX1N6wea1c"
      },
      "source": [
        "Now data is cleaned."
      ]
    },
    {
      "cell_type": "markdown",
      "metadata": {
        "id": "f-aQbd48ec8L"
      },
      "source": [
        "## There will be two methods to analyse the data. \r\n",
        "### 1) Use regression techniques to predict rating of a cereal based on the features.\r\n",
        "### 2) Associate each cereal with a Heathiness metric."
      ]
    },
    {
      "cell_type": "markdown",
      "metadata": {
        "id": "HnjK02kHfAlN"
      },
      "source": [
        "### Exploratory Data Analysis"
      ]
    },
    {
      "cell_type": "code",
      "metadata": {
        "colab": {
          "base_uri": "https://localhost:8080/"
        },
        "id": "6EKuxZ3OfFkk",
        "outputId": "576215ce-2b8e-4903-9f3a-e4a832e9c2ae"
      },
      "source": [
        "df.columns"
      ],
      "execution_count": null,
      "outputs": [
        {
          "output_type": "execute_result",
          "data": {
            "text/plain": [
              "Index(['name', 'mfr', 'type', 'calories', 'protein', 'fat', 'sodium', 'fiber',\n",
              "       'carbo', 'sugars', 'potass', 'vitamins', 'shelf', 'weight', 'cups',\n",
              "       'rating'],\n",
              "      dtype='object')"
            ]
          },
          "metadata": {
            "tags": []
          },
          "execution_count": 15
        }
      ]
    },
    {
      "cell_type": "code",
      "metadata": {
        "colab": {
          "base_uri": "https://localhost:8080/"
        },
        "id": "pcMYV4DpfqMB",
        "outputId": "8b305166-16f8-4c6b-cf81-1ca42ba0966e"
      },
      "source": [
        "df['name'].nunique()"
      ],
      "execution_count": null,
      "outputs": [
        {
          "output_type": "execute_result",
          "data": {
            "text/plain": [
              "74"
            ]
          },
          "metadata": {
            "tags": []
          },
          "execution_count": 20
        }
      ]
    },
    {
      "cell_type": "markdown",
      "metadata": {
        "id": "7NAlOqHff9nR"
      },
      "source": [
        "All the cereals in the dataset are unique."
      ]
    },
    {
      "cell_type": "code",
      "metadata": {
        "colab": {
          "base_uri": "https://localhost:8080/",
          "height": 281
        },
        "id": "JpjWXByffIQc",
        "outputId": "183c424d-ae72-4306-f2a5-9b6e6a2e031f"
      },
      "source": [
        "df['mfr'].value_counts().plot(kind='bar')"
      ],
      "execution_count": null,
      "outputs": [
        {
          "output_type": "execute_result",
          "data": {
            "text/plain": [
              "<matplotlib.axes._subplots.AxesSubplot at 0x7ff8a357b6a0>"
            ]
          },
          "metadata": {
            "tags": []
          },
          "execution_count": 17
        },
        {
          "output_type": "display_data",
          "data": {
            "image/png": "[encoded data removed]",
            "text/plain": [
              "<Figure size 432x288 with 1 Axes>"
            ]
          },
          "metadata": {
            "tags": [],
            "needs_background": "light"
          }
        }
      ]
    },
    {
      "cell_type": "markdown",
      "metadata": {
        "id": "tqmIHmBtfcuG"
      },
      "source": [
        "Kellogs has the highest number of cereal products available in the market followed by General Mills."
      ]
    },
    {
      "cell_type": "code",
      "metadata": {
        "colab": {
          "base_uri": "https://localhost:8080/",
          "height": 265
        },
        "id": "XD_xKWIkgEDK",
        "outputId": "622d55e2-e39b-4c5c-b700-d50058ff2e2d"
      },
      "source": [
        "df['type'].value_counts().plot(kind='pie', autopct= '%1.1f%%', fontsize= 15)"
      ],
      "execution_count": null,
      "outputs": [
        {
          "output_type": "execute_result",
          "data": {
            "text/plain": [
              "<matplotlib.axes._subplots.AxesSubplot at 0x7ff8a2ed86d8>"
            ]
          },
          "metadata": {
            "tags": []
          },
          "execution_count": 24
        },
        {
          "output_type": "display_data",
          "data": {
            "image/png": "[encoded data removed]",
            "text/plain": [
              "<Figure size 432x288 with 1 Axes>"
            ]
          },
          "metadata": {
            "tags": []
          }
        }
      ]
    },
    {
      "cell_type": "markdown",
      "metadata": {
        "id": "AyXjhvdGgt1V"
      },
      "source": [
        "73 cereals are Cold type and 1 cereal is Hot type."
      ]
    },
    {
      "cell_type": "code",
      "metadata": {
        "colab": {
          "base_uri": "https://localhost:8080/",
          "height": 338
        },
        "id": "9EHNzTl6tImy",
        "outputId": "e31fc38a-89a9-4771-f462-e4077efab6f8"
      },
      "source": [
        "plt.figure(figsize = (16,5))\r\n",
        "sns.heatmap(df.corr(),cmap='RdYlGn_r', annot= True, fmt= \".2f\")"
      ],
      "execution_count": null,
      "outputs": [
        {
          "output_type": "execute_result",
          "data": {
            "text/plain": [
              "<matplotlib.axes._subplots.AxesSubplot at 0x7ff89ad91710>"
            ]
          },
          "metadata": {
            "tags": []
          },
          "execution_count": 31
        },
        {
          "output_type": "display_data",
          "data": {
            "image/png": "[encoded data removed]",
            "text/plain": [
              "<Figure size 1152x360 with 2 Axes>"
            ]
          },
          "metadata": {
            "tags": [],
            "needs_background": "light"
          }
        }
      ]
    },
    {
      "cell_type": "markdown",
      "metadata": {
        "id": "XuO14pyCuUVP"
      },
      "source": [
        "\r\n",
        "\r\n",
        "1.   Highly Correlated features: fibre and potassium\r\n",
        "2.   Correlated features: weight and calories\r\n",
        "3.   Negatively Correlated features: sugars and rating\r\n",
        "\r\n"
      ]
    },
    {
      "cell_type": "code",
      "metadata": {
        "colab": {
          "base_uri": "https://localhost:8080/",
          "height": 297
        },
        "id": "BaSU4ZKnutFb",
        "outputId": "6e5d2051-4b0a-4bc7-d95a-9f0da3b2d713"
      },
      "source": [
        "sns.boxplot(x='mfr', y='rating', data= df)"
      ],
      "execution_count": null,
      "outputs": [
        {
          "output_type": "execute_result",
          "data": {
            "text/plain": [
              "<matplotlib.axes._subplots.AxesSubplot at 0x7ff89abeaa20>"
            ]
          },
          "metadata": {
            "tags": []
          },
          "execution_count": 32
        },
        {
          "output_type": "display_data",
          "data": {
            "image/png": "[encoded data removed]",
            "text/plain": [
              "<Figure size 432x288 with 1 Axes>"
            ]
          },
          "metadata": {
            "tags": [],
            "needs_background": "light"
          }
        }
      ]
    },
    {
      "cell_type": "markdown",
      "metadata": {
        "id": "OOcWKkzBvceb"
      },
      "source": [
        "\r\n",
        "\r\n",
        "1.   Cereals from Nabisco company has the highest rating. Additionally, the deviation is also less, all the consumers have given equally high rating to it. \r\n",
        "2.   Cereals from General Mills company and Quaker Oats have the lowest rating among all.\r\n",
        "\r\n"
      ]
    },
    {
      "cell_type": "markdown",
      "metadata": {
        "id": "kPaP0mgpv9jZ"
      },
      "source": [
        "## Analysis 1: Regression on Rating variable"
      ]
    },
    {
      "cell_type": "markdown",
      "metadata": {
        "id": "sxJyd2Wxxn8B"
      },
      "source": [
        "### Dividing the data into X and y"
      ]
    },
    {
      "cell_type": "code",
      "metadata": {
        "id": "R-GlTeAuxr_L"
      },
      "source": [
        "X= df.iloc[:, 3:14].values\r\n",
        "y= df.iloc[:, -1].values"
      ],
      "execution_count": null,
      "outputs": []
    },
    {
      "cell_type": "code",
      "metadata": {
        "id": "Hd48GhEAzYA2"
      },
      "source": [
        "from sklearn.model_selection import train_test_split\r\n",
        "X_train, X_test, y_train, y_test= train_test_split(X, y, test_size= 0.2, random_state=0)"
      ],
      "execution_count": null,
      "outputs": []
    },
    {
      "cell_type": "code",
      "metadata": {
        "colab": {
          "base_uri": "https://localhost:8080/"
        },
        "id": "79yGx0lVyH0z",
        "outputId": "6f611e61-13c8-47e6-b79e-4fa93e42ec1c"
      },
      "source": [
        "from sklearn.ensemble import RandomForestRegressor\r\n",
        "regressor= RandomForestRegressor(n_estimators= 10, random_state= 0)\r\n",
        "regressor.fit(X_train, y_train)"
      ],
      "execution_count": null,
      "outputs": [
        {
          "output_type": "execute_result",
          "data": {
            "text/plain": [
              "RandomForestRegressor(bootstrap=True, ccp_alpha=0.0, criterion='mse',\n",
              "                      max_depth=None, max_features='auto', max_leaf_nodes=None,\n",
              "                      max_samples=None, min_impurity_decrease=0.0,\n",
              "                      min_impurity_split=None, min_samples_leaf=1,\n",
              "                      min_samples_split=2, min_weight_fraction_leaf=0.0,\n",
              "                      n_estimators=10, n_jobs=None, oob_score=False,\n",
              "                      random_state=0, verbose=0, warm_start=False)"
            ]
          },
          "metadata": {
            "tags": []
          },
          "execution_count": 35
        }
      ]
    },
    {
      "cell_type": "code",
      "metadata": {
        "colab": {
          "base_uri": "https://localhost:8080/"
        },
        "id": "RCOB-POFz3f5",
        "outputId": "2390d5fc-a6d8-46d4-9948-a669893d34c3"
      },
      "source": [
        "y_pred= regressor.predict(X_test)\r\n",
        "np.set_printoptions(precision=2)\r\n",
        "print(np.concatenate((y_pred.reshape(len(y_pred), 1), y_test.reshape(len(y_test), 1)),1))"
      ],
      "execution_count": null,
      "outputs": [
        {
          "output_type": "stream",
          "text": [
            "[[35.95 37.84]\n",
            " [49.82 49.51]\n",
            " [33.63 32.21]\n",
            " [32.55 34.14]\n",
            " [26.52 35.25]\n",
            " [35.79 41.02]\n",
            " [64.5  59.36]\n",
            " [49.13 41.5 ]\n",
            " [31.17 31.07]\n",
            " [67.1  49.12]\n",
            " [33.27 37.14]\n",
            " [35.39 39.7 ]\n",
            " [23.95 26.73]\n",
            " [68.22 74.47]\n",
            " [31.39 21.87]]\n"
          ],
          "name": "stdout"
        }
      ]
    },
    {
      "cell_type": "code",
      "metadata": {
        "colab": {
          "base_uri": "https://localhost:8080/"
        },
        "id": "5ZsxSS590ke4",
        "outputId": "7ae6b3bb-f08c-46c5-dae9-7045dc2aee21"
      },
      "source": [
        "from sklearn.metrics import r2_score\r\n",
        "r2_score(y_true= y_test, y_pred= y_pred)"
      ],
      "execution_count": null,
      "outputs": [
        {
          "output_type": "execute_result",
          "data": {
            "text/plain": [
              "0.7178550323878681"
            ]
          },
          "metadata": {
            "tags": []
          },
          "execution_count": 37
        }
      ]
    },
    {
      "cell_type": "code",
      "metadata": {
        "colab": {
          "base_uri": "https://localhost:8080/"
        },
        "id": "kZXUoRcz2KvB",
        "outputId": "e3b6b357-1150-4b3e-e30e-a79c03bdfad4"
      },
      "source": [
        "y_train_pred= regressor.predict(X_train)\r\n",
        "r2_score(y_true= y_train, y_pred= y_train_pred)"
      ],
      "execution_count": null,
      "outputs": [
        {
          "output_type": "execute_result",
          "data": {
            "text/plain": [
              "0.9708478886985838"
            ]
          },
          "metadata": {
            "tags": []
          },
          "execution_count": 38
        }
      ]
    },
    {
      "cell_type": "markdown",
      "metadata": {
        "id": "pPNoXQXk2dGl"
      },
      "source": [
        "## Associate each cereal with a healthiness metric"
      ]
    },
    {
      "cell_type": "markdown",
      "metadata": {
        "id": "Qa1JUfQh2qZH"
      },
      "source": [
        "The categorical variables and the shelf placement number and the rating do not contribute to the heathiness metric of a cereal. Hence, removing them."
      ]
    },
    {
      "cell_type": "code",
      "metadata": {
        "id": "Fwm--dy-2k-v"
      },
      "source": [
        "df1= pd.DataFrame()\r\n",
        "df1['name']= df['name']"
      ],
      "execution_count": null,
      "outputs": []
    },
    {
      "cell_type": "code",
      "metadata": {
        "colab": {
          "base_uri": "https://localhost:8080/",
          "height": 110
        },
        "id": "RjwmhMZ34QE9",
        "outputId": "949ca9e9-eb86-450e-c5a6-0d7be458212e"
      },
      "source": [
        "df1.head(2)"
      ],
      "execution_count": null,
      "outputs": [
        {
          "output_type": "execute_result",
          "data": {
            "text/html": [
              "<div>\n",
              "<style scoped>\n",
              "    .dataframe tbody tr th:only-of-type {\n",
              "        vertical-align: middle;\n",
              "    }\n",
              "\n",
              "    .dataframe tbody tr th {\n",
              "        vertical-align: top;\n",
              "    }\n",
              "\n",
              "    .dataframe thead th {\n",
              "        text-align: right;\n",
              "    }\n",
              "</style>\n",
              "<table border=\"1\" class=\"dataframe\">\n",
              "  <thead>\n",
              "    <tr style=\"text-align: right;\">\n",
              "      <th></th>\n",
              "      <th>name</th>\n",
              "    </tr>\n",
              "  </thead>\n",
              "  <tbody>\n",
              "    <tr>\n",
              "      <th>0</th>\n",
              "      <td>100% Bran</td>\n",
              "    </tr>\n",
              "    <tr>\n",
              "      <th>1</th>\n",
              "      <td>100% Natural Bran</td>\n",
              "    </tr>\n",
              "  </tbody>\n",
              "</table>\n",
              "</div>"
            ],
            "text/plain": [
              "                name\n",
              "0          100% Bran\n",
              "1  100% Natural Bran"
            ]
          },
          "metadata": {
            "tags": []
          },
          "execution_count": 40
        }
      ]
    },
    {
      "cell_type": "code",
      "metadata": {
        "id": "ZQ5JAaUj4SnG"
      },
      "source": [
        "df1['calories']= np.abs(df['calories']-200)"
      ],
      "execution_count": null,
      "outputs": []
    },
    {
      "cell_type": "code",
      "metadata": {
        "colab": {
          "base_uri": "https://localhost:8080/"
        },
        "id": "HsE5yRMo5l8E",
        "outputId": "0e3b7edc-a0ed-4e4b-e11f-d5558a06b165"
      },
      "source": [
        "df1['calories'].describe()"
      ],
      "execution_count": null,
      "outputs": [
        {
          "output_type": "execute_result",
          "data": {
            "text/plain": [
              "count     74.000000\n",
              "mean      92.972973\n",
              "std       19.843893\n",
              "min       40.000000\n",
              "25%       90.000000\n",
              "50%       90.000000\n",
              "75%      100.000000\n",
              "max      150.000000\n",
              "Name: calories, dtype: float64"
            ]
          },
          "metadata": {
            "tags": []
          },
          "execution_count": 42
        }
      ]
    },
    {
      "cell_type": "markdown",
      "metadata": {
        "id": "QYvgTrMJ52JX"
      },
      "source": [
        "Recommended amount of calories is 200. However, the cereals have high calories. They have to be reduced."
      ]
    },
    {
      "cell_type": "code",
      "metadata": {
        "id": "ptUtIpz45-QF"
      },
      "source": [
        "df1['fat']= df['fat']*100/60"
      ],
      "execution_count": null,
      "outputs": []
    },
    {
      "cell_type": "code",
      "metadata": {
        "colab": {
          "base_uri": "https://localhost:8080/"
        },
        "id": "YcNLi_pF6y4H",
        "outputId": "03aa13ac-0fce-4633-f52e-c68efbcb3b3d"
      },
      "source": [
        "df1['fat'].describe()"
      ],
      "execution_count": null,
      "outputs": [
        {
          "output_type": "execute_result",
          "data": {
            "text/plain": [
              "count    74.000000\n",
              "mean      1.666667\n",
              "std       1.678043\n",
              "min       0.000000\n",
              "25%       0.000000\n",
              "50%       1.666667\n",
              "75%       1.666667\n",
              "max       8.333333\n",
              "Name: fat, dtype: float64"
            ]
          },
          "metadata": {
            "tags": []
          },
          "execution_count": 44
        }
      ]
    },
    {
      "cell_type": "code",
      "metadata": {
        "id": "d1DijlwY65L-"
      },
      "source": [
        "df1['fiber']= df['fiber']*100/30"
      ],
      "execution_count": null,
      "outputs": []
    },
    {
      "cell_type": "code",
      "metadata": {
        "id": "0lfnF8OL7FE6"
      },
      "source": [
        "df1['sugars']= df['sugars']*100/50"
      ],
      "execution_count": null,
      "outputs": []
    },
    {
      "cell_type": "code",
      "metadata": {
        "colab": {
          "base_uri": "https://localhost:8080/"
        },
        "id": "Spn7YT597QDt",
        "outputId": "b4886b69-3f09-4a10-c1c8-6a922c525c7b"
      },
      "source": [
        "carbs = df[[\"fiber\", \"sugars\", \"carbo\"]]\r\n",
        "\r\n",
        "total_carb = pd.Series(\r\n",
        "    carbs.sum(axis = 1),\r\n",
        "    name = \"total_carb\",\r\n",
        ")\r\n",
        "\r\n",
        "print(carbs.join(total_carb))"
      ],
      "execution_count": null,
      "outputs": [
        {
          "output_type": "stream",
          "text": [
            "    fiber  sugars  carbo  total_carb\n",
            "0    10.0     6.0    5.0        21.0\n",
            "1     2.0     8.0    8.0        18.0\n",
            "2     9.0     5.0    7.0        21.0\n",
            "3    14.0     0.0    8.0        22.0\n",
            "5     1.5    10.0   10.5        22.0\n",
            "..    ...     ...    ...         ...\n",
            "72    0.0     3.0   21.0        24.0\n",
            "73    0.0    12.0   13.0        25.0\n",
            "74    3.0     3.0   17.0        23.0\n",
            "75    3.0     3.0   17.0        23.0\n",
            "76    1.0     8.0   16.0        25.0\n",
            "\n",
            "[74 rows x 4 columns]\n"
          ],
          "name": "stdout"
        }
      ]
    },
    {
      "cell_type": "code",
      "metadata": {
        "id": "XLNgqC4J7ieH"
      },
      "source": [
        "df1['total_carbo']= total_carb*100/275"
      ],
      "execution_count": null,
      "outputs": []
    },
    {
      "cell_type": "code",
      "metadata": {
        "id": "7QrYm1fy71Ji"
      },
      "source": [
        "df1[\"vit_score\"] = df[\"vitamins\"].replace(\r\n",
        "    [25, 0, 100],\r\n",
        "    [3, 2, 1],\r\n",
        ")"
      ],
      "execution_count": null,
      "outputs": []
    },
    {
      "cell_type": "code",
      "metadata": {
        "id": "oLRh74f28WfA"
      },
      "source": [
        "max_df = (df[[\"fiber\", \"protein\", \"potass\"]] # Original data\r\n",
        "             .join(df1[[\"total_carbo\", \"vit_score\"]]).add(0.01) # Transformed data\r\n",
        "                      \r\n",
        "         )\r\n",
        "\r\n",
        "min_df = (df[[\"fat\", \"sugars\", \"sodium\"]] # Original data\r\n",
        "             .join(df1[\"calories\"]).add(0.01) # Transformed data\r\n",
        "         )"
      ],
      "execution_count": null,
      "outputs": []
    },
    {
      "cell_type": "code",
      "metadata": {
        "colab": {
          "base_uri": "https://localhost:8080/"
        },
        "id": "M-Ta9Rmr88Yl",
        "outputId": "fa81c43e-e4b8-4988-d537-e06a5e3789a1"
      },
      "source": [
        "max_df_prod = max_df.product(axis = 1)\r\n",
        "min_df_prod = min_df.product(axis = 1)\r\n",
        "\r\n",
        "# Divide `max_prod` by `min_prod` to get the scores.\r\n",
        "score = max_df_prod.divide(min_df_prod)\r\n",
        "\r\n",
        "# Append the final scores as a column to a new `leaderboard_df`.\r\n",
        "leaderboard_df = pd.DataFrame()\r\n",
        "leaderboard_df[\"name\"] = df1[\"name\"]\r\n",
        "leaderboard_df[\"score\"] = score\r\n",
        "\r\n",
        "print(leaderboard_df)"
      ],
      "execution_count": null,
      "outputs": [
        {
          "output_type": "stream",
          "text": [
            "                         name          score\n",
            "0                   100% Bran       2.521297\n",
            "1           100% Natural Bran       0.223322\n",
            "2                    All-Bran       1.555709\n",
            "3   All-Bran with Extra Fiber  212828.288724\n",
            "5     Apple Cinnamon Cheerios       0.015715\n",
            "..                        ...            ...\n",
            "72                    Triples       0.000464\n",
            "73                       Trix       0.000045\n",
            "74                 Wheat Chex       0.375553\n",
            "75                   Wheaties       0.413107\n",
            "76        Wheaties Honey Gold       0.022914\n",
            "\n",
            "[74 rows x 2 columns]\n"
          ],
          "name": "stdout"
        }
      ]
    },
    {
      "cell_type": "code",
      "metadata": {
        "colab": {
          "base_uri": "https://localhost:8080/"
        },
        "id": "Z6yAxCaE9M-L",
        "outputId": "2886a704-056b-49bc-d5d8-185775793a96"
      },
      "source": [
        "leaderboard_df[\"score_rank\"] = leaderboard_df[\"score\"].rank(\r\n",
        "    method = \"dense\",\r\n",
        "    ascending = False,\r\n",
        ")\r\n",
        "\r\n",
        "leaderboard_df = leaderboard_df.sort_values(\"score_rank\")\r\n",
        "print(leaderboard_df)"
      ],
      "execution_count": null,
      "outputs": [
        {
          "output_type": "stream",
          "text": [
            "                         name         score  score_rank\n",
            "64     Shredded Wheat 'n'Bran  2.585520e+08         1.0\n",
            "65  Shredded Wheat spoon size  1.663521e+08         2.0\n",
            "63             Shredded Wheat  6.661308e+07         3.0\n",
            "55               Puffed Wheat  5.454997e+06         4.0\n",
            "26        Frosted Mini-Wheats  3.399048e+05         5.0\n",
            "..                        ...           ...         ...\n",
            "31             Golden Grahams  5.212695e-05        70.0\n",
            "29             Fruity Pebbles  4.694240e-05        71.0\n",
            "73                       Trix  4.526600e-05        72.0\n",
            "12      Cinnamon Toast Crunch  2.405215e-05        73.0\n",
            "10               Cap'n'Crunch  2.188417e-05        74.0\n",
            "\n",
            "[74 rows x 3 columns]\n"
          ],
          "name": "stdout"
        }
      ]
    },
    {
      "cell_type": "markdown",
      "metadata": {
        "id": "c8LM51QQ9tf6"
      },
      "source": [
        "According to the score applied: Shredded Wheat Bran is heathiest\r\n",
        "And, Cap and Cruch is least healthy."
      ]
    }
  ]
}